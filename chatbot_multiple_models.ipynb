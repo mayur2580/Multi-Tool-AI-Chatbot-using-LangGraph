{
 "cells": [
  {
   "cell_type": "code",
   "execution_count": 109,
   "id": "6f627fc5",
   "metadata": {},
   "outputs": [],
   "source": [
    "from langchain_community.tools import ArxivQueryRun,WikipediaQueryRun\n",
    "from langchain_community.utilities import WikipediaAPIWrapper,ArxivAPIWrapper"
   ]
  },
  {
   "cell_type": "code",
   "execution_count": 110,
   "id": "2e67593a",
   "metadata": {},
   "outputs": [
    {
     "name": "stdout",
     "output_type": "stream",
     "text": [
      "arxiv\n"
     ]
    }
   ],
   "source": [
    "api_wrapper_arxiv=ArxivAPIWrapper(top_k_results=2,doc_content_chars_max=1000)\n",
    "arxiv=ArxivQueryRun(api_wrapper=api_wrapper_arxiv,description=\"Query arxiv papers\")\n",
    "print(arxiv.name)"
   ]
  },
  {
   "cell_type": "code",
   "execution_count": 111,
   "id": "4b818c78",
   "metadata": {},
   "outputs": [
    {
     "data": {
      "text/plain": [
       "'Published: 2023-05-23\\nTitle: Fast and energy-efficient non-volatile III-V-on-silicon photonic phase shifter based on memristors\\nAuthors: Zhuoran Fang, Bassem Tossoun, Antoine Descos, Di Liang, Xue Huang, Geza Kurczveil, Arka Majumdar, Raymond G. Beausoleil\\nSummary: Silicon photonics has evolved from lab research to commercial products in the\\npast decade as it plays an increasingly crucial role in data communication for\\nnext-generation data centers and high performance computing1. Recently,\\nprogrammable silicon photonics has also found new applications in quantum2 and\\nclassical 3 information processing. A key component of programmable silicon\\nphotonic integrated circuits (PICs) is the phase shifter, traditionally\\nrealized via the thermo-optic or plasma dispersion effect which are weak,\\nvolatile, and power hungry. A non-volatile phase shifter can circumvent these\\nlimitations by requiring zero power to maintain the switched phases. Previously\\nnon-volatile phase modulation was achieved via'"
      ]
     },
     "execution_count": 111,
     "metadata": {},
     "output_type": "execute_result"
    }
   ],
   "source": [
    "arxiv.invoke(\"What is the latest research on quantum computing?\")"
   ]
  },
  {
   "cell_type": "code",
   "execution_count": 112,
   "id": "a33d7c25",
   "metadata": {},
   "outputs": [
    {
     "data": {
      "text/plain": [
       "'wikipedia'"
      ]
     },
     "execution_count": 112,
     "metadata": {},
     "output_type": "execute_result"
    }
   ],
   "source": [
    "api_wrapper_wiki=WikipediaAPIWrapper(top_k_results=1,doc_content_chars_max=1000)\n",
    "wiki=WikipediaQueryRun(api_wrapper=api_wrapper_wiki)\n",
    "wiki.name"
   ]
  },
  {
   "cell_type": "code",
   "execution_count": 113,
   "id": "22f18bff",
   "metadata": {},
   "outputs": [],
   "source": [
    "from dotenv import load_dotenv\n",
    "load_dotenv()\n",
    "\n",
    "import os\n",
    "\n",
    "os.environ[\"TAVILY_API_KEY\"]=os.getenv(\"TAVILY_API_KEY\")\n",
    "os.environ[\"GROQ_API_KEY\"]=os.getenv(\"GROQ_API_KEY\")"
   ]
  },
  {
   "cell_type": "code",
   "execution_count": 114,
   "id": "b71d8ec6",
   "metadata": {},
   "outputs": [],
   "source": [
    "### Tavily Search Tool\n",
    "from langchain_community.tools.tavily_search import TavilySearchResults\n",
    "\n",
    "tavily = TavilySearchResults()"
   ]
  },
  {
   "cell_type": "code",
   "execution_count": 115,
   "id": "8010f9ae",
   "metadata": {},
   "outputs": [
    {
     "data": {
      "text/plain": [
       "[{'title': 'Latest AI Breakthroughs and News: May-June 2025 - Crescendo.ai',\n",
       "  'url': 'https://www.crescendo.ai/news/latest-ai-news-and-updates',\n",
       "  'content': '### Thinking Machines Lab Raises $2B at $10B Valuation\\n\\nDate: June 20, 2025  \\nSummary: Mira Muratiâ\\x80\\x99s new venture, Thinking Machines Lab, has closed a $2 billion funding round at a $10 billion valuation. The lab is focused on developing agentic AI systems for reasoning, planning, and autonomy. Investors include top-tier VCs betting on Muratiâ\\x80\\x99s vision post-OpenAI. The deal positions the company as a major new force in foundational AI development.  \\nSource: TechCrunch [...] ### Ex-OpenAI Staff Say Safety Was Sacrificed for Profit\\n\\nDate: June 20, 2025  \\nSummary: Former OpenAI employees have accused the company of prioritizing profits over safety and transparency in a newly released letter. The letter claims OpenAI leaders ignored internal concerns and retaliated against those who raised issues. The group is calling for stronger whistleblower protections and public accountability. This adds fuel to the growing debate over AI ethics and regulation.  \\nSource: AI News [...] ### AI Helping Save Endangered Giraffes, Says Microsoft\\n\\nDate: June 18, 2025  \\nSummary: Microsoft announced that its AI tools are being used in conservation efforts to track and protect endangered giraffes in Africa. The system analyzes drone footage and camera trap data to identify migration and poaching risks. Conservationists say it improves speed and accuracy of wildlife monitoring. This is part of Microsoftâ\\x80\\x99s broader AI for Earth initiative.  \\nSource: Microsoft Blog',\n",
       "  'score': 0.843393},\n",
       " {'title': 'The latest AI news we announced in May - Google Blog',\n",
       "  'url': 'https://blog.google/technology/ai/google-ai-updates-may-2025/',\n",
       "  'content': '\"The Latest AI News We Announced in May\" shares Google\\'s recent AI advancements across products and research.\\n Google is integrating AI into Search with AI Mode, Deep Search, and Project Astra\\'s live capabilities.\\n New AI shopping experiences in AI Mode help you find products, try them on virtually, and checkout easily.\\n Gemini is coming to glasses and headsets via Android XR, offering a natural AI experience.',\n",
       "  'score': 0.80442166}]"
      ]
     },
     "execution_count": 115,
     "metadata": {},
     "output_type": "execute_result"
    }
   ],
   "source": [
    "tavily.invoke(\"Provide me the recent AI news?\")"
   ]
  },
  {
   "cell_type": "code",
   "execution_count": 116,
   "id": "52d789ff",
   "metadata": {},
   "outputs": [],
   "source": [
    "## combine all these tools in the list\n",
    "tools=[arxiv, wiki, tavily]"
   ]
  },
  {
   "cell_type": "code",
   "execution_count": 117,
   "id": "7d4f8f4c",
   "metadata": {},
   "outputs": [],
   "source": [
    "## Initialize the LLM Model\n",
    "from langchain_groq import ChatGroq\n",
    "\n",
    "llm=ChatGroq(model=\"qwen-qwq-32b\")\n"
   ]
  },
  {
   "cell_type": "code",
   "execution_count": 118,
   "id": "e52a4d36",
   "metadata": {},
   "outputs": [
    {
     "data": {
      "text/plain": [
       "AIMessage(content='\\n<think>\\nOkay, the user is asking \"What is AI?\" Let me start by breaking it down. AI stands for Artificial Intelligence. I should explain what that means in simple terms. Maybe start with a basic definition.\\n\\nI need to mention that AI refers to machines or systems that can perform tasks that typically require human intelligence. But what tasks exactly? Things like problem-solving, learning, recognizing speech, making decisions. Maybe list a few examples to make it concrete.\\n\\nWait, should I differentiate between general AI and narrow AI? General AI is like human-level intelligence, which is still theoretical. Narrow AI is what we have now, like voice assistants or recommendation systems. That\\'s important because people might confuse the two.\\n\\nAlso, maybe touch on the key areas of AI: machine learning, neural networks, natural language processing. Explaining these briefly would help. But keep it high-level so it\\'s not too technical.\\n\\nApplications are crucial. People relate better when they know real-world uses. Examples like self-driving cars, chatbots, medical diagnosis, and recommendation systems from Netflix or Amazon. That makes the concept tangible.\\n\\nEthics and challenges shouldn\\'t be overlooked. Mention biases in AI, privacy issues, job displacement. It\\'s a balanced view. Also, the future of AI, how it\\'s evolving and potential impacts on society.\\n\\nWait, should I start with a simple definition then expand? Let me structure it step by step. First definition, then types, key areas, applications, challenges, and future. That flows logically.\\n\\nMake sure to avoid jargon where possible, but still be accurate. Use examples they might be familiar with. Maybe also clarify that AI isn\\'t just one thing—it\\'s a broad field.\\n\\nHmm, also consider common misconceptions. Like AI being a single technology versus a collection of methods. Or the fear of AI taking over, which ties into ethics.\\n\\nOkay, putting it all together. Start with the basic definition, types (narrow vs general), key technologies, applications, challenges, and future. Keep each section concise. Use bullet points or numbered lists where helpful, but since they asked for a paragraph, maybe structure it in paragraphs with clear headings.\\n\\nWait, the user didn\\'t specify format. The original answer they provided was in a structured format with headings. Maybe follow that style for clarity. Use headings like \"Definition\", \"Types\", \"Key Technologies\", etc.\\n\\nMake sure to mention machine learning as a subset of AI. Neural networks, deep learning. Natural language processing, computer vision. These are the key areas.\\n\\nApplications: healthcare, finance, customer service, etc. Challenges: data quality, bias, ethical issues, job impact. Future: advancements, integration into daily life, need for regulation.\\n\\nAlso, maybe a closing thought on how AI is a tool shaped by humans, so responsible development is key. That gives a good wrap-up.\\n\\nDouble-check to ensure accuracy. Avoid inaccuracies like claiming general AI is here now. Emphasize that it\\'s still theoretical. Okay, that should cover it. Keep it clear and comprehensive without being too technical.\\n</think>\\n\\n**Artificial Intelligence (AI)** is the field of computer science dedicated to creating systems and machines that can perform tasks requiring human-like intelligence. These tasks include learning, problem-solving, decision-making, perception (e.g., recognizing images or speech), and even generating creative content. AI systems aim to mimic cognitive functions, often using algorithms and data to simulate human thought processes.\\n\\n### Key Components of AI:\\n1. **Types of AI**:\\n   - **Narrow (Weak) AI**: Specializes in specific tasks (e.g., voice assistants like Siri, recommendation algorithms on Netflix, or self-driving cars).\\n   - **General (Strong) AI**: Hypothetical AI that possesses human-like intelligence across multiple domains, capable of reasoning, planning, and understanding context like a human. This remains theoretical and does not yet exist.\\n\\n2. **Core Technologies**:\\n   - **Machine Learning (ML)**: A subset of AI where systems learn from data to improve performance without explicit programming. Example: Predicting consumer behavior for targeted ads.\\n   - **Deep Learning**: A type of ML using neural networks with multiple layers to process complex data (e.g., facial recognition systems).\\n   - **Natural Language Processing (NLP)**: Enabling machines to understand and generate human language (e.g., chatbots, language translation tools).\\n   - **Computer Vision**: Allowing machines to interpret visual data (e.g., medical imaging analysis or autonomous vehicle navigation).\\n\\n### Applications of AI:\\n- **Healthcare**: Diagnosing diseases, drug discovery, and personalized treatment plans.\\n- **Finance**: Fraud detection, algorithmic trading, and credit risk assessment.\\n- **Customer Service**: AI chatbots and virtual assistants.\\n- **Transportation**: Autonomous vehicles and route optimization.\\n- **Entertainment**: Content recommendations (e.g., Netflix, Spotify) and AI-generated art/music.\\n\\n### Challenges & Ethical Considerations:\\n- **Bias & Fairness**: AI systems can inherit biases from training data, leading to unfair outcomes (e.g., biased hiring algorithms).\\n- **Privacy**: Collection and use of personal data raise ethical concerns.\\n- **Job Displacement**: Automation threatens certain jobs, though it also creates new opportunities.\\n- **Safety & Control**: Ensuring AI systems align with human values and are transparent in decision-making.\\n\\n### The Future of AI:\\nAI is rapidly evolving, driven by advancements in computing power and data availability. Emerging areas include:\\n- **Explainable AI (XAI)**: Making AI decisions more transparent.\\n- **AI in Climate Science**: Predicting climate patterns or optimizing renewable energy systems.\\n- **Human-AI Collaboration**: Tools that augment human capabilities (e.g., AI assisting doctors in diagnosing illnesses).\\n\\n### Final Thoughts:\\nAI is a powerful tool shaped by human design and goals. Its impact depends on responsible development, regulation, and ethical considerations. While it promises transformative benefits, addressing its societal implications is crucial to ensure it serves humanity equitably and safely.', additional_kwargs={}, response_metadata={'token_usage': {'completion_tokens': 1221, 'prompt_tokens': 13, 'total_tokens': 1234, 'completion_time': 2.802948129, 'prompt_time': 0.002765227, 'queue_time': 0.40252638100000004, 'total_time': 2.805713356}, 'model_name': 'qwen-qwq-32b', 'system_fingerprint': 'fp_a91d9c2cfb', 'finish_reason': 'stop', 'logprobs': None}, id='run--8de5a360-0df4-4ec3-8e6a-85c87a23cebf-0', usage_metadata={'input_tokens': 13, 'output_tokens': 1221, 'total_tokens': 1234})"
      ]
     },
     "execution_count": 118,
     "metadata": {},
     "output_type": "execute_result"
    }
   ],
   "source": [
    "llm.invoke(\"What is AI\")"
   ]
  },
  {
   "cell_type": "code",
   "execution_count": 119,
   "id": "631fed2c",
   "metadata": {},
   "outputs": [],
   "source": [
    "llm_with_tools=llm.bind_tools(tools=tools)"
   ]
  },
  {
   "cell_type": "code",
   "execution_count": 120,
   "id": "19eb53af",
   "metadata": {},
   "outputs": [
    {
     "data": {
      "text/plain": [
       "AIMessage(content='', additional_kwargs={'reasoning_content': 'Okay, the user is asking for recent news on AI. Let me think about which tool to use here. The available functions are arxiv, wikipedia, and tavily_search_results_json. \\n\\nArxiv is good for academic papers, but the user wants recent news, which might not be in arxiv. Wikipedia is for encyclopedic info, not real-time news. Tavily\\'s search results might be the best here since it can provide current news articles. \\n\\nSo I should call tavily_search_results_json with the query \"recent news on AI\". That should fetch the latest articles or updates. Let me make sure the parameters are correct. The function requires a \"query\" parameter, and the user\\'s question is straightforward. \\n\\nI\\'ll structure the tool call with the function name and the query. No other parameters are needed. This should get the user the information they\\'re looking for.\\n', 'tool_calls': [{'id': 'ptp1ag9b1', 'function': {'arguments': '{\"query\":\"recent news on AI\"}', 'name': 'tavily_search_results_json'}, 'type': 'function'}]}, response_metadata={'token_usage': {'completion_tokens': 212, 'prompt_tokens': 270, 'total_tokens': 482, 'completion_time': 0.522364963, 'prompt_time': 0.018426784, 'queue_time': 0.245834645, 'total_time': 0.540791747}, 'model_name': 'qwen-qwq-32b', 'system_fingerprint': 'fp_1e88ca32eb', 'finish_reason': 'tool_calls', 'logprobs': None}, id='run--a72beff2-12e1-4ea8-a6f5-9f6681610bde-0', tool_calls=[{'name': 'tavily_search_results_json', 'args': {'query': 'recent news on AI'}, 'id': 'ptp1ag9b1', 'type': 'tool_call'}], usage_metadata={'input_tokens': 270, 'output_tokens': 212, 'total_tokens': 482})"
      ]
     },
     "execution_count": 120,
     "metadata": {},
     "output_type": "execute_result"
    }
   ],
   "source": [
    "## Execute this call\n",
    "llm_with_tools.invoke(\"What is the recent news on AI?\")"
   ]
  },
  {
   "cell_type": "code",
   "execution_count": 121,
   "id": "38145fdf",
   "metadata": {},
   "outputs": [
    {
     "data": {
      "text/plain": [
       "AIMessage(content='', additional_kwargs={'reasoning_content': 'Okay, the user is asking about the latest research on quantum computing. I need to figure out which tool to use here. The available functions are arxiv, wikipedia, and tavily_search_results_json. Since they\\'re asking for the latest research, arXiv is a good source because it\\'s where researchers often publish their recent papers. The arXiv function requires a query parameter, so I should set the query to something like \"latest research quantum computing\" or maybe more specific terms. Let me check the function definitions again. The arxiv function\\'s parameter is a query string. So I\\'ll call the arxiv function with the query \"latest quantum computing research\" to get the most recent papers. That should provide the user with up-to-date information from preprints. Alternatively, Tavily could also be an option, but since arXiv is more specialized in academic papers, it\\'s better to use that first. Wikipedia might not have the latest research findings, more like general info. So definitely arXiv is the way to go here.\\n', 'tool_calls': [{'id': 'ea5dw8zaw', 'function': {'arguments': '{\"query\":\"latest research on quantum computing\"}', 'name': 'arxiv'}, 'type': 'function'}]}, response_metadata={'token_usage': {'completion_tokens': 239, 'prompt_tokens': 271, 'total_tokens': 510, 'completion_time': 0.587124958, 'prompt_time': 0.014657019, 'queue_time': 0.24383220100000003, 'total_time': 0.601781977}, 'model_name': 'qwen-qwq-32b', 'system_fingerprint': 'fp_98b01f25b2', 'finish_reason': 'tool_calls', 'logprobs': None}, id='run--aecc3d6f-8b23-4f18-94ca-03d6ad00d1c7-0', tool_calls=[{'name': 'arxiv', 'args': {'query': 'latest research on quantum computing'}, 'id': 'ea5dw8zaw', 'type': 'tool_call'}], usage_metadata={'input_tokens': 271, 'output_tokens': 239, 'total_tokens': 510})"
      ]
     },
     "execution_count": 121,
     "metadata": {},
     "output_type": "execute_result"
    }
   ],
   "source": [
    "## Execute this call\n",
    "llm_with_tools.invoke(\"What is the latest research on quantum computing?\")\n"
   ]
  },
  {
   "cell_type": "code",
   "execution_count": 122,
   "id": "dfb0ec7e",
   "metadata": {},
   "outputs": [
    {
     "data": {
      "text/plain": [
       "AIMessage(content='', additional_kwargs={'reasoning_content': 'Okay, the user is asking, \"What is machine learning?\" I need to explain this clearly. Let me start by recalling the basic definition. Machine learning is a subset of artificial intelligence that focuses on developing systems that can learn from data and improve without being explicitly programmed. But maybe I should check some sources to make sure I\\'m accurate and can provide a comprehensive answer.\\n\\nFirst, I can use the Wikipedia function. Looking up \"machine learning\" on Wikipedia would give a detailed overview, including its history, types, and applications. That could help structure the answer.\\n\\nAlso, the Arxiv function might find recent research papers, but since the user is asking for a basic explanation, maybe that\\'s not necessary unless they want the latest advancements. The user\\'s question seems foundational, so perhaps Wikipedia is better here.\\n\\nAlternatively, using Tavily\\'s search results could give a more current or varied perspective. Let me see. The Tavily function might aggregate different sources, which could help in summarizing key points from multiple articles.\\n\\nWait, the user might need a straightforward definition. Let me start with Wikipedia for the standard explanation. Then maybe Tavily for additional context. But I can only call one function at a time. Let me first call the Wikipedia function with the query \"machine learning\". That should provide the necessary details like supervised and unsupervised learning, examples, and key figures. Then I can use that info to craft the answer. Alternatively, if Wikipedia\\'s page is too technical, Tavily might offer a more user-friendly summary. Hmm, better to start with the most reliable source first. Let me go with Wikipedia. \\n\\nWait, but the user might want a concise explanation. Let me see if the Wikipedia summary is sufficient. If the function returns a good summary, then proceed. Otherwise, maybe Tavily\\'s results can help. Since the functions are called one at a time, I should choose the most likely one first. Let\\'s go with Wikipedia.\\n', 'tool_calls': [{'id': 'hxp2ze22v', 'function': {'arguments': '{\"query\":\"machine learning\"}', 'name': 'wikipedia'}, 'type': 'function'}]}, response_metadata={'token_usage': {'completion_tokens': 422, 'prompt_tokens': 267, 'total_tokens': 689, 'completion_time': 1.027521503, 'prompt_time': 0.018983283, 'queue_time': 0.24530603600000003, 'total_time': 1.046504786}, 'model_name': 'qwen-qwq-32b', 'system_fingerprint': 'fp_1e88ca32eb', 'finish_reason': 'tool_calls', 'logprobs': None}, id='run--b08f4cb3-2629-485b-b8c5-1bd46a330692-0', tool_calls=[{'name': 'wikipedia', 'args': {'query': 'machine learning'}, 'id': 'hxp2ze22v', 'type': 'tool_call'}], usage_metadata={'input_tokens': 267, 'output_tokens': 422, 'total_tokens': 689})"
      ]
     },
     "execution_count": 122,
     "metadata": {},
     "output_type": "execute_result"
    }
   ],
   "source": [
    "## Execute this call\n",
    "llm_with_tools.invoke(\"What is machine learning?\")"
   ]
  },
  {
   "cell_type": "markdown",
   "id": "9cc4a588",
   "metadata": {},
   "source": [
    "## WorkFlow"
   ]
  },
  {
   "cell_type": "code",
   "execution_count": 123,
   "id": "64c828ba",
   "metadata": {},
   "outputs": [],
   "source": [
    "## State Schema\n",
    "from typing_extensions import TypedDict\n",
    "from langchain_core.messages import AnyMessage ## Human message or AI message\n",
    "from typing import Annotated  ## labelling\n",
    "from langgraph.graph.message import add_messages  ## Reducers in Langgraph"
   ]
  },
  {
   "cell_type": "code",
   "execution_count": 124,
   "id": "b6966ce4",
   "metadata": {},
   "outputs": [],
   "source": [
    "class State(TypedDict):\n",
    "    messages: Annotated[list[AnyMessage], add_messages]\n",
    "    name: str\n",
    "    birthday: str"
   ]
  },
  {
   "cell_type": "code",
   "execution_count": 125,
   "id": "d0edd6ac",
   "metadata": {},
   "outputs": [],
   "source": [
    "### Entire Chatbot With LangGraph\n",
    "from IPython.display import Image, display\n",
    "from langgraph.graph import StateGraph, START, END\n",
    "from langgraph.prebuilt import ToolNode\n",
    "from langgraph.prebuilt import tools_condition"
   ]
  },
  {
   "cell_type": "code",
   "execution_count": 126,
   "id": "bbfbe190",
   "metadata": {},
   "outputs": [
    {
     "data": {
      "image/png": "[encoded data removed]",
      "text/plain": [
       "<IPython.core.display.Image object>"
      ]
     },
     "metadata": {},
     "output_type": "display_data"
    }
   ],
   "source": [
    "### Node definition\n",
    "def ai_assistance(state:State):\n",
    "    return {\"messages\":[llm_with_tools.invoke(state[\"messages\"])]}\n",
    "\n",
    "# Build graph\n",
    "builder = StateGraph(State)\n",
    "builder.add_node(\"AI_Assistance\", ai_assistance)\n",
    "builder.add_node(\"tools\", ToolNode(tools))\n",
    "\n",
    "## Edgess\n",
    "builder.add_edge(START, \"AI_Assistance\")\n",
    "builder.add_conditional_edges(\n",
    "    \"AI_Assistance\",\n",
    "    # If the latest message (result) from assistant is a tool call -> tools_condition routes to tools\n",
    "    # If the latest message (result) from assistant is a not a tool call -> tools_condition routes to END\n",
    "    tools_condition,\n",
    ")\n",
    "builder.add_edge(\"tools\", END)\n",
    "\n",
    "graph = builder.compile()\n",
    "\n",
    "# View\n",
    "display(Image(graph.get_graph().draw_mermaid_png()))"
   ]
  },
  {
   "cell_type": "code",
   "execution_count": 127,
   "id": "fef6d354",
   "metadata": {},
   "outputs": [
    {
     "name": "stdout",
     "output_type": "stream",
     "text": [
      "================================\u001b[1m Human Message \u001b[0m=================================\n",
      "\n",
      "give me the latest news on AI and then multiply 5 by 10\n",
      "==================================\u001b[1m Ai Message \u001b[0m==================================\n",
      "Tool Calls:\n",
      "  tavily_search_results_json (39823egyr)\n",
      " Call ID: 39823egyr\n",
      "  Args:\n",
      "    query: latest news on AI\n",
      "=================================\u001b[1m Tool Message \u001b[0m=================================\n",
      "Name: tavily_search_results_json\n",
      "\n",
      "[{\"title\": \"Latest AI Breakthroughs and News: May-June 2025 - Crescendo.ai\", \"url\": \"https://www.crescendo.ai/news/latest-ai-news-and-updates\", \"content\": \"Date: May 31, 2025  \\nSummary: Internet analyst Mary Meekerâs new AI trends report highlights India and China as key innovation hubs, while also exploring the intensifying divide between open-source and closed AI ecosystems. The report suggests that collaboration and transparency will shape global AI leadership.  \\nSource: NDTV\\n\\n### Global AI Scam Surge Hits $12.4B with Deepfakes and Voice Cloning [...] Date: March 12, 2025  \\nSummary: China is accelerating AI development to counter U.S. trade restrictions, rolling out models like Manus and DeepSeek, which rival top U.S. counterparts. The government collaborates with private sectors and universities, reducing dependence on imported technology and establishing a National Computing Power Grid to support AI advancements.  \\nSource: VOA News\\n\\n### Google Co-Founder Larry Page Launches AI Startup Dynatomics\\n\\nDate: March 7, 2025 [...] Date: June 20, 2025  \\nSummary: Nvidia and Foxconn are reportedly in discussions to deploy humanoid robots at Foxconnâs new AI server plant in Houston. The robots would perform factory floor tasks, potentially improving efficiency and cutting labor costs. The move comes as manufacturers worldwide explore robotics to meet demand and offset labor shortages. If implemented, it could mark a significant leap in AI-powered automation.  \\nSource: Reuters\", \"score\": 0.85008353}, {\"title\": \"Latest Ai Updates\", \"url\": \"https://theailatest.com/\", \"content\": \"LATEST AI UPDATES is your premier destination for the latest news in artificial intelligence. Our team of passionate AI enthusiasts delivers daily and weekly insights covering emerging trends, groundbreaking technologies, and significant industry shifts.\", \"score\": 0.84215075}]\n"
     ]
    }
   ],
   "source": [
    "messages=graph.invoke({\"messages\":\"give me the latest news on AI and then multiply 5 by 10\"})\n",
    "for m in messages['messages']:\n",
    "    m.pretty_print()"
   ]
  },
  {
   "cell_type": "markdown",
   "id": "86cf14bc",
   "metadata": {},
   "source": [
    "### ReAct Architecture"
   ]
  },
  {
   "cell_type": "code",
   "execution_count": 128,
   "id": "9742041c",
   "metadata": {},
   "outputs": [
    {
     "data": {
      "image/png": "[encoded data removed]",
      "text/plain": [
       "<IPython.core.display.Image object>"
      ]
     },
     "metadata": {},
     "output_type": "display_data"
    }
   ],
   "source": [
    "### Node definition\n",
    "def ai_assistance(state:State):\n",
    "    return {\"messages\":[llm_with_tools.invoke(state[\"messages\"])]}\n",
    "\n",
    "# Build graph\n",
    "builder = StateGraph(State)\n",
    "builder.add_node(\"AI_Assistance\", ai_assistance)\n",
    "builder.add_node(\"tools\", ToolNode(tools))\n",
    "\n",
    "## Edgess\n",
    "builder.add_edge(START, \"AI_Assistance\")\n",
    "builder.add_conditional_edges(\n",
    "    \"AI_Assistance\",\n",
    "    # If the latest message (result) from assistant is a tool call -> tools_condition routes to tools\n",
    "    # If the latest message (result) from assistant is a not a tool call -> tools_condition routes to END\n",
    "    tools_condition,\n",
    ")\n",
    "builder.add_edge(\"tools\", \"AI_Assistance\")\n",
    "\n",
    "graph = builder.compile()\n",
    "\n",
    "# View\n",
    "display(Image(graph.get_graph().draw_mermaid_png()))"
   ]
  },
  {
   "cell_type": "code",
   "execution_count": 129,
   "id": "b3aab40a",
   "metadata": {},
   "outputs": [
    {
     "name": "stdout",
     "output_type": "stream",
     "text": [
      "================================\u001b[1m Human Message \u001b[0m=================================\n",
      "\n",
      "give me the latest news on AI and then multiply 5 by 10\n",
      "==================================\u001b[1m Ai Message \u001b[0m==================================\n",
      "Tool Calls:\n",
      "  tavily_search_results_json (bww59sa2p)\n",
      " Call ID: bww59sa2p\n",
      "  Args:\n",
      "    query: latest news on AI\n",
      "=================================\u001b[1m Tool Message \u001b[0m=================================\n",
      "Name: tavily_search_results_json\n",
      "\n",
      "[{\"title\": \"Latest AI Breakthroughs and News: May-June 2025 - Crescendo.ai\", \"url\": \"https://www.crescendo.ai/news/latest-ai-news-and-updates\", \"content\": \"Date: May 31, 2025  \\nSummary: Internet analyst Mary Meekerâs new AI trends report highlights India and China as key innovation hubs, while also exploring the intensifying divide between open-source and closed AI ecosystems. The report suggests that collaboration and transparency will shape global AI leadership.  \\nSource: NDTV\\n\\n### Global AI Scam Surge Hits $12.4B with Deepfakes and Voice Cloning [...] Date: March 12, 2025  \\nSummary: China is accelerating AI development to counter U.S. trade restrictions, rolling out models like Manus and DeepSeek, which rival top U.S. counterparts. The government collaborates with private sectors and universities, reducing dependence on imported technology and establishing a National Computing Power Grid to support AI advancements.  \\nSource: VOA News\\n\\n### Google Co-Founder Larry Page Launches AI Startup Dynatomics\\n\\nDate: March 7, 2025 [...] Date: June 20, 2025  \\nSummary: Nvidia and Foxconn are reportedly in discussions to deploy humanoid robots at Foxconnâs new AI server plant in Houston. The robots would perform factory floor tasks, potentially improving efficiency and cutting labor costs. The move comes as manufacturers worldwide explore robotics to meet demand and offset labor shortages. If implemented, it could mark a significant leap in AI-powered automation.  \\nSource: Reuters\", \"score\": 0.85008353}, {\"title\": \"The latest AI news we announced in May - Google Blog\", \"url\": \"https://blog.google/technology/ai/google-ai-updates-may-2025/\", \"content\": \"\\\"The Latest AI News We Announced in May\\\" shares Google's recent AI advancements across products and research.\\n Google is integrating AI into Search with AI Mode, Deep Search, and Project Astra's live capabilities.\\n New AI shopping experiences in AI Mode help you find products, try them on virtually, and checkout easily.\\n Gemini is coming to glasses and headsets via Android XR, offering a natural AI experience. [...] # The latest AI news we announced in May\\n\\nJun 05, 2025\\n\\nHere’s a recap of some of our biggest AI updates from May, including the releases at I/O and Google Marketing Live, news about AI Mode, new capabilities in the Gemini app and our new AI-powered filmmaking tool, Flow.\\n\\nSuperG\\n\\n## General summary\", \"score\": 0.8479807}]\n",
      "==================================\u001b[1m Ai Message \u001b[0m==================================\n",
      "\n",
      "Here's the latest news on AI and the answer to your calculation:\n",
      "\n",
      "**Latest AI News (May-June 2025):**  \n",
      "1. **Global AI Innovation Hubs**: Mary Meeker’s report highlights India and China as key AI innovation centers, with China launching models like Manus and DeepSeek to rival U.S. tech.  \n",
      "2. **AI Scam Surge**: Global AI-related scams have hit $12.4 billion, driven by deepfakes and voice cloning.  \n",
      "3. **Nvidia & Foxconn**: Planning to deploy AI-powered humanoid robots in factories to improve efficiency and address labor shortages.  \n",
      "4. **Google AI Updates**: New AI features in Search (AI Mode, Deep Search), Gemini integration in XR devices, and AI-driven shopping tools.  \n",
      "\n",
      "**Calculation**:  \n",
      "5 multiplied by 10 equals **50**.  \n",
      "\n",
      "Let me know if you need further details!\n"
     ]
    }
   ],
   "source": [
    "messages=graph.invoke({\"messages\":\"give me the latest news on AI and then multiply 5 by 10\"})\n",
    "for m in messages['messages']:\n",
    "    m.pretty_print()"
   ]
  },
  {
   "cell_type": "markdown",
   "id": "bd6bb806",
   "metadata": {},
   "source": [
    "### Adding Memory"
   ]
  },
  {
   "cell_type": "code",
   "execution_count": 130,
   "id": "f70e2ce3",
   "metadata": {},
   "outputs": [
    {
     "name": "stdout",
     "output_type": "stream",
     "text": [
      "================================\u001b[1m Human Message \u001b[0m=================================\n",
      "\n",
      "My name is Mayur\n",
      "==================================\u001b[1m Ai Message \u001b[0m==================================\n",
      "\n",
      "Hello Mayur! Nice to meet you. How can I assist you today? Feel free to ask me any questions or let me know if you need help with anything specific! 😊\n"
     ]
    }
   ],
   "source": [
    "messages=graph.invoke({\"messages\":\"My name is Mayur\"})\n",
    "for m in messages['messages']:\n",
    "    m.pretty_print()"
   ]
  },
  {
   "cell_type": "code",
   "execution_count": 131,
   "id": "52ae86d8",
   "metadata": {},
   "outputs": [
    {
     "name": "stdout",
     "output_type": "stream",
     "text": [
      "================================\u001b[1m Human Message \u001b[0m=================================\n",
      "\n",
      "what is my name\n",
      "==================================\u001b[1m Ai Message \u001b[0m==================================\n",
      "\n",
      "I don't have access to personal information or previous conversation history, so I don't know your name. If you'd like, you can share your name with me and I'll use it in our conversation!\n"
     ]
    }
   ],
   "source": [
    "messages=graph.invoke({\"messages\":\"what is my name\"})\n",
    "for m in messages['messages']:\n",
    "    m.pretty_print()"
   ]
  },
  {
   "cell_type": "code",
   "execution_count": 132,
   "id": "df16b41c",
   "metadata": {},
   "outputs": [
    {
     "data": {
      "image/png": "[encoded data removed]",
      "text/plain": [
       "<IPython.core.display.Image object>"
      ]
     },
     "metadata": {},
     "output_type": "display_data"
    }
   ],
   "source": [
    "from langgraph.checkpoint.memory import MemorySaver\n",
    "\n",
    "memory = MemorySaver()\n",
    "### Node definition\n",
    "def ai_assistance(state:State):\n",
    "    return {\"messages\":[llm_with_tools.invoke(state[\"messages\"])]}\n",
    "\n",
    "# Build graph\n",
    "builder = StateGraph(State)\n",
    "builder.add_node(\"AI_Assistance\", ai_assistance)\n",
    "builder.add_node(\"tools\", ToolNode(tools))\n",
    "\n",
    "## Edgess\n",
    "builder.add_edge(START, \"AI_Assistance\")\n",
    "builder.add_conditional_edges(\n",
    "    \"AI_Assistance\",\n",
    "    # If the latest message (result) from assistant is a tool call -> tools_condition routes to tools\n",
    "    # If the latest message (result) from assistant is a not a tool call -> tools_condition routes to END\n",
    "    tools_condition,\n",
    ")\n",
    "builder.add_edge(\"tools\", \"AI_Assistance\")\n",
    "\n",
    "graph = builder.compile(checkpointer=memory)\n",
    "\n",
    "# View\n",
    "display(Image(graph.get_graph().draw_mermaid_png()))"
   ]
  },
  {
   "cell_type": "code",
   "execution_count": 133,
   "id": "a95ef786",
   "metadata": {},
   "outputs": [
    {
     "data": {
      "text/plain": [
       "{'messages': [HumanMessage(content='My name is Mayur', additional_kwargs={}, response_metadata={}, id='f5d29f99-ec2a-4e03-a325-cb9b2aa5caf1'),\n",
       "  AIMessage(content='Hello Mayur! Nice to meet you. How can I assist you today? Feel free to ask me any questions or let me know if you need help with anything specific! 😊', additional_kwargs={'reasoning_content': 'Okay, the user said, \"My name is Mayur.\" I need to figure out how to respond. Let me check the tools available. There\\'s arxiv for academic papers, wikipedia for encyclopedic info, and Tavily search for general web results. But the user is just introducing themselves. They didn\\'t ask a question or request information. Maybe they want to start a conversation. Since there\\'s no explicit query, I shouldn\\'t call any tools. My role is to assist, so perhaps I should acknowledge their introduction and ask how I can help them. That way, I can prompt them to provide more details or ask a question. Using a tool here wouldn\\'t make sense because there\\'s no specific topic to search yet. So, the best approach is to respond politely and invite them to state their needs.\\n'}, response_metadata={'token_usage': {'completion_tokens': 208, 'prompt_tokens': 267, 'total_tokens': 475, 'completion_time': 0.509629181, 'prompt_time': 0.021205236, 'queue_time': 0.291215644, 'total_time': 0.530834417}, 'model_name': 'qwen-qwq-32b', 'system_fingerprint': 'fp_98b01f25b2', 'finish_reason': 'stop', 'logprobs': None}, id='run--a698ab28-01bf-4f54-9a1c-78d9a4d37a64-0', usage_metadata={'input_tokens': 267, 'output_tokens': 208, 'total_tokens': 475})]}"
      ]
     },
     "execution_count": 133,
     "metadata": {},
     "output_type": "execute_result"
    }
   ],
   "source": [
    "config = {\"configurable\": {\"thread_id\": \"1\"}}\n",
    "result = graph.invoke({\"messages\":\"My name is Mayur\"}, config=config)\n",
    "result"
   ]
  },
  {
   "cell_type": "code",
   "execution_count": 134,
   "id": "111f329c",
   "metadata": {},
   "outputs": [
    {
     "data": {
      "text/plain": [
       "'Hello Mayur! Nice to meet you. How can I assist you today? Feel free to ask me any questions or let me know if you need help with anything specific! 😊'"
      ]
     },
     "execution_count": 134,
     "metadata": {},
     "output_type": "execute_result"
    }
   ],
   "source": [
    "result[\"messages\"][-1].content"
   ]
  },
  {
   "cell_type": "code",
   "execution_count": 135,
   "id": "417ca6a0",
   "metadata": {},
   "outputs": [
    {
     "data": {
      "text/plain": [
       "'Your name is Mayur, as you mentioned earlier. How can I assist you today, Mayur? 😊'"
      ]
     },
     "execution_count": 135,
     "metadata": {},
     "output_type": "execute_result"
    }
   ],
   "source": [
    "config = {\"configurable\": {\"thread_id\": \"1\"}}\n",
    "result = graph.invoke({\"messages\":\"What is my name\"}, config=config)\n",
    "result[\"messages\"][-1].content"
   ]
  },
  {
   "cell_type": "code",
   "execution_count": 136,
   "id": "5aaed3d9",
   "metadata": {},
   "outputs": [
    {
     "data": {
      "text/plain": [
       "'Yes, I remember your name, Mayur! I keep track of the conversation history, so I know you introduced yourself earlier. How can I assist you further? 😊'"
      ]
     },
     "execution_count": 136,
     "metadata": {},
     "output_type": "execute_result"
    }
   ],
   "source": [
    "config = {\"configurable\": {\"thread_id\": \"1\"}}\n",
    "result = graph.invoke({\"messages\":\"you remembered my name?\"}, config=config)\n",
    "result[\"messages\"][-1].content"
   ]
  },
  {
   "cell_type": "markdown",
   "id": "a7ca6546",
   "metadata": {},
   "source": [
    "### Streaming"
   ]
  },
  {
   "cell_type": "markdown",
   "id": "07804dfe",
   "metadata": {},
   "source": [
    "Methods: .stream() and astream()\n",
    "\n",
    "These methods are sync and async methods for streaming back results.\n",
    "Additional parameters in streaming modes for graph state\n",
    "\n",
    "- values : This streams the full state of the graph after each node is called.\n",
    "- updates : This streams updates to the state of the graph after each node is called."
   ]
  },
  {
   "cell_type": "code",
   "execution_count": 137,
   "id": "831a4cbd",
   "metadata": {},
   "outputs": [],
   "source": [
    "\n",
    "from langgraph.checkpoint.memory import MemorySaver\n",
    "memory=MemorySaver()"
   ]
  },
  {
   "cell_type": "code",
   "execution_count": 138,
   "id": "e9a28956",
   "metadata": {},
   "outputs": [],
   "source": [
    "\n",
    "def superbot(state:State):\n",
    "    return {\"messages\":[llm.invoke(state['messages'])]}"
   ]
  },
  {
   "cell_type": "code",
   "execution_count": 139,
   "id": "15805e70",
   "metadata": {},
   "outputs": [
    {
     "data": {
      "image/png": "[encoded data removed]",
      "text/plain": [
       "<IPython.core.display.Image object>"
      ]
     },
     "metadata": {},
     "output_type": "display_data"
    }
   ],
   "source": [
    "graph=StateGraph(State)\n",
    "\n",
    "## node\n",
    "graph.add_node(\"SuperBot\",superbot)\n",
    "## Edges\n",
    "\n",
    "graph.add_edge(START,\"SuperBot\")\n",
    "graph.add_edge(\"SuperBot\",END)\n",
    "\n",
    "\n",
    "graph_builder=graph.compile(checkpointer=memory)\n",
    "\n",
    "\n",
    "## Display\n",
    "from IPython.display import Image, display\n",
    "display(Image(graph_builder.get_graph().draw_mermaid_png()))"
   ]
  },
  {
   "cell_type": "code",
   "execution_count": 140,
   "id": "5fd0f270",
   "metadata": {},
   "outputs": [
    {
     "data": {
      "text/plain": [
       "{'messages': [HumanMessage(content='Hi,My name is Mayur And I like cricket', additional_kwargs={}, response_metadata={}, id='aa8ebfee-f6dd-45e1-99a0-8598d79b5bb0'),\n",
       "  AIMessage(content=\"\\n<think>\\nOkay, the user is Mayur and mentions liking cricket. I should respond warmly. Let me start by greeting him and expressing that I'm happy to meet him. Then, acknowledge his interest in cricket. Maybe ask if he follows any particular teams or players. Also, mention some popular teams and players like the Indian cricket team, Virat Kohli, or MS Dhoni. Keep it friendly and open-ended to encourage further conversation. Let me check for any typos or errors. Alright, that should work.\\n</think>\\n\\nHello, Mayur! Nice to meet you. That's a great interest—cricket is such a thrilling sport! Do you follow any particular teams or players? I know the Indian cricket team has some amazing players like Virat Kohli, MS Dhoni, and many more. Let me know if you'd like to chat more about it! 😊\", additional_kwargs={}, response_metadata={'token_usage': {'completion_tokens': 178, 'prompt_tokens': 21, 'total_tokens': 199, 'completion_time': 0.433708693, 'prompt_time': 0.003330087, 'queue_time': 0.24434341199999998, 'total_time': 0.43703878}, 'model_name': 'qwen-qwq-32b', 'system_fingerprint': 'fp_1e88ca32eb', 'finish_reason': 'stop', 'logprobs': None}, id='run--0bc4fd5d-1136-4500-a3a4-b5a82ab5c031-0', usage_metadata={'input_tokens': 21, 'output_tokens': 178, 'total_tokens': 199})]}"
      ]
     },
     "execution_count": 140,
     "metadata": {},
     "output_type": "execute_result"
    }
   ],
   "source": [
    "## Invocation\n",
    "\n",
    "config = {\"configurable\": {\"thread_id\": \"1\"}}\n",
    "\n",
    "graph_builder.invoke({'messages':\"Hi,My name is Mayur And I like cricket\"},config)"
   ]
  },
  {
   "cell_type": "code",
   "execution_count": 141,
   "id": "ec2d901b",
   "metadata": {},
   "outputs": [
    {
     "name": "stdout",
     "output_type": "stream",
     "text": [
      "{'SuperBot': {'messages': [AIMessage(content=\"\\n<think>\\nOkay, the user introduced themselves as Mayur and mentioned they like cricket. I should respond warmly and maybe ask them about their favorite team or players to keep the conversation going. Let me make sure to use friendly language and show genuine interest. Maybe mention a popular team like the Indian cricket team since the name Mayur is common in India. I should also check for any typos and keep it concise.\\n\\nWait, should I ask about their favorite player or maybe if they follow the current tournaments? Hmm, maybe start with a greeting and then ask about their interest in cricket. Let me structure it so it flows naturally. Also, avoid using any technical terms they might not know. Keep it simple and engaging. Alright, let me put that together.\\n</think>\\n\\nHi Mayur! Nice to meet you! Cricket is a fantastic sport—do you follow any particular team or player? If you're in India, I'm sure you're excited about the current cricket season! 😊 Let me know what you love most about the game!\", additional_kwargs={}, response_metadata={'token_usage': {'completion_tokens': 208, 'prompt_tokens': 21, 'total_tokens': 229, 'completion_time': 0.514054005, 'prompt_time': 0.003816967, 'queue_time': 0.241900432, 'total_time': 0.517870972}, 'model_name': 'qwen-qwq-32b', 'system_fingerprint': 'fp_98b01f25b2', 'finish_reason': 'stop', 'logprobs': None}, id='run--52d271af-6ebf-4c0b-b05f-a0fb10838e3b-0', usage_metadata={'input_tokens': 21, 'output_tokens': 208, 'total_tokens': 229})]}}\n"
     ]
    }
   ],
   "source": [
    "# Create a thread\n",
    "#mode=updates\n",
    "config = {\"configurable\": {\"thread_id\": \"3\"}}\n",
    "\n",
    "for chunk in graph_builder.stream({'messages':\"Hi,My name is Mayur And I like cricket\"},config,stream_mode=\"updates\"):\n",
    "    print(chunk)"
   ]
  },
  {
   "cell_type": "code",
   "execution_count": 143,
   "id": "eca50016",
   "metadata": {},
   "outputs": [
    {
     "name": "stdout",
     "output_type": "stream",
     "text": [
      "{'messages': [HumanMessage(content='Hi,My name is Mayur And I like cricket', additional_kwargs={}, response_metadata={}, id='c5e81624-0718-4def-b6bf-7208923bca97'), AIMessage(content=\"\\n<think>\\nOkay, the user introduced themselves as Mayur and mentioned they like cricket. I should respond warmly and maybe ask them about their favorite team or players to keep the conversation going. Let me make sure to use friendly language and show genuine interest. Maybe mention a popular team like the Indian cricket team since the name Mayur is common in India. I should also check for any typos and keep it concise.\\n\\nWait, should I ask about their favorite player or maybe if they follow the current tournaments? Hmm, maybe start with a greeting and then ask about their interest in cricket. Let me structure it so it flows naturally. Also, avoid using any technical terms they might not know. Keep it simple and engaging. Alright, let me put that together.\\n</think>\\n\\nHi Mayur! Nice to meet you! Cricket is a fantastic sport—do you follow any particular team or player? If you're in India, I'm sure you're excited about the current cricket season! 😊 Let me know what you love most about the game!\", additional_kwargs={}, response_metadata={'token_usage': {'completion_tokens': 208, 'prompt_tokens': 21, 'total_tokens': 229, 'completion_time': 0.514054005, 'prompt_time': 0.003816967, 'queue_time': 0.241900432, 'total_time': 0.517870972}, 'model_name': 'qwen-qwq-32b', 'system_fingerprint': 'fp_98b01f25b2', 'finish_reason': 'stop', 'logprobs': None}, id='run--52d271af-6ebf-4c0b-b05f-a0fb10838e3b-0', usage_metadata={'input_tokens': 21, 'output_tokens': 208, 'total_tokens': 229}), HumanMessage(content='Hi,My name is Mayur And I like cricket', additional_kwargs={}, response_metadata={}, id='54b8afb0-8f8b-4c42-813a-2003e5b3ff5f'), AIMessage(content='\\n<think>\\nOkay, the user just greeted me again with the same message: \"Hi,My name is Mayur And I like cricket\". Let me check the conversation history. \\n\\nPreviously, they introduced themselves and mentioned liking cricket. I responded by asking about their favorite team or player and mentioned the Indian season. Now they\\'re repeating their initial message. Hmm, maybe they didn\\'t get a chance to respond before, or perhaps there was a technical hiccup? Or maybe they want to emphasize their name and interest again.\\n\\nI should consider that they might be starting fresh or maybe they\\'re testing the chat function again. Since they haven\\'t provided more info yet, I should prompt them again but maybe in a different way. Alternatively, maybe they want to talk about something else related to cricket. \\n\\nWait, perhaps the user is using a mobile app or a different device where the conversation history isn\\'t carried over. I should make sure my response is friendly and encouraging without assuming too much. Let me restate my interest in their cricket preferences and maybe add a question about their favorite moments or matches to keep the conversation flowing. I should also keep the tone upbeat and open-ended to invite them to share more details.\\n</think>\\n\\nHi Mayur! 😊 It’s great that you love cricket—what’s your favorite part of the game? Is it the strategy, the excitement of a close match, or maybe a particular player’s skills? And if you’re up for it, what’s the most memorable cricket moment you’ve ever watched or played in? Let’s chat!', additional_kwargs={}, response_metadata={'token_usage': {'completion_tokens': 313, 'prompt_tokens': 97, 'total_tokens': 410, 'completion_time': 0.76463386, 'prompt_time': 0.007605563, 'queue_time': 0.245263156, 'total_time': 0.772239423}, 'model_name': 'qwen-qwq-32b', 'system_fingerprint': 'fp_1e88ca32eb', 'finish_reason': 'stop', 'logprobs': None}, id='run--07352975-fe82-4fd1-97de-483dbc0814ae-0', usage_metadata={'input_tokens': 97, 'output_tokens': 313, 'total_tokens': 410}), HumanMessage(content='Hi,My name is Mayur And I like cricket', additional_kwargs={}, response_metadata={}, id='21563618-67bc-4a51-8113-2edefb28e130')]}\n",
      "{'messages': [HumanMessage(content='Hi,My name is Mayur And I like cricket', additional_kwargs={}, response_metadata={}, id='c5e81624-0718-4def-b6bf-7208923bca97'), AIMessage(content=\"\\n<think>\\nOkay, the user introduced themselves as Mayur and mentioned they like cricket. I should respond warmly and maybe ask them about their favorite team or players to keep the conversation going. Let me make sure to use friendly language and show genuine interest. Maybe mention a popular team like the Indian cricket team since the name Mayur is common in India. I should also check for any typos and keep it concise.\\n\\nWait, should I ask about their favorite player or maybe if they follow the current tournaments? Hmm, maybe start with a greeting and then ask about their interest in cricket. Let me structure it so it flows naturally. Also, avoid using any technical terms they might not know. Keep it simple and engaging. Alright, let me put that together.\\n</think>\\n\\nHi Mayur! Nice to meet you! Cricket is a fantastic sport—do you follow any particular team or player? If you're in India, I'm sure you're excited about the current cricket season! 😊 Let me know what you love most about the game!\", additional_kwargs={}, response_metadata={'token_usage': {'completion_tokens': 208, 'prompt_tokens': 21, 'total_tokens': 229, 'completion_time': 0.514054005, 'prompt_time': 0.003816967, 'queue_time': 0.241900432, 'total_time': 0.517870972}, 'model_name': 'qwen-qwq-32b', 'system_fingerprint': 'fp_98b01f25b2', 'finish_reason': 'stop', 'logprobs': None}, id='run--52d271af-6ebf-4c0b-b05f-a0fb10838e3b-0', usage_metadata={'input_tokens': 21, 'output_tokens': 208, 'total_tokens': 229}), HumanMessage(content='Hi,My name is Mayur And I like cricket', additional_kwargs={}, response_metadata={}, id='54b8afb0-8f8b-4c42-813a-2003e5b3ff5f'), AIMessage(content='\\n<think>\\nOkay, the user just greeted me again with the same message: \"Hi,My name is Mayur And I like cricket\". Let me check the conversation history. \\n\\nPreviously, they introduced themselves and mentioned liking cricket. I responded by asking about their favorite team or player and mentioned the Indian season. Now they\\'re repeating their initial message. Hmm, maybe they didn\\'t get a chance to respond before, or perhaps there was a technical hiccup? Or maybe they want to emphasize their name and interest again.\\n\\nI should consider that they might be starting fresh or maybe they\\'re testing the chat function again. Since they haven\\'t provided more info yet, I should prompt them again but maybe in a different way. Alternatively, maybe they want to talk about something else related to cricket. \\n\\nWait, perhaps the user is using a mobile app or a different device where the conversation history isn\\'t carried over. I should make sure my response is friendly and encouraging without assuming too much. Let me restate my interest in their cricket preferences and maybe add a question about their favorite moments or matches to keep the conversation flowing. I should also keep the tone upbeat and open-ended to invite them to share more details.\\n</think>\\n\\nHi Mayur! 😊 It’s great that you love cricket—what’s your favorite part of the game? Is it the strategy, the excitement of a close match, or maybe a particular player’s skills? And if you’re up for it, what’s the most memorable cricket moment you’ve ever watched or played in? Let’s chat!', additional_kwargs={}, response_metadata={'token_usage': {'completion_tokens': 313, 'prompt_tokens': 97, 'total_tokens': 410, 'completion_time': 0.76463386, 'prompt_time': 0.007605563, 'queue_time': 0.245263156, 'total_time': 0.772239423}, 'model_name': 'qwen-qwq-32b', 'system_fingerprint': 'fp_1e88ca32eb', 'finish_reason': 'stop', 'logprobs': None}, id='run--07352975-fe82-4fd1-97de-483dbc0814ae-0', usage_metadata={'input_tokens': 97, 'output_tokens': 313, 'total_tokens': 410}), HumanMessage(content='Hi,My name is Mayur And I like cricket', additional_kwargs={}, response_metadata={}, id='21563618-67bc-4a51-8113-2edefb28e130'), AIMessage(content='\\n<think>\\nOkay, the user keeps greeting with the same message: \"Hi,My name is Mayur And I like cricket\". They\\'ve done this three times now. The first two times, I responded with friendly questions about their favorite teams, players, and memorable moments. But they\\'re repeating the same intro again.\\n\\nHmm, maybe they\\'re not getting the chance to provide more info because they\\'re stuck in a loop. Or perhaps there\\'s a language barrier? Their messages are all lowercase except for the name and \"cricket\"—maybe they\\'re just practicing introducing themselves? Or maybe they\\'re testing the chatbot\\'s responsiveness?\\n\\nI should consider that they might need a different prompt to encourage elaboration. Since they haven\\'t changed their response, I should vary my approach. Let me try to acknowledge their repetition and invite them to share more details in a friendly way. Maybe add some emojis to keep it engaging. Also, perhaps they\\'re looking for a conversation starter, so I can mention some cricket topics they might enjoy discussing, like formats (Test, T20), favorite matches, or even fantasy cricket. That should give them multiple avenues to respond.\\n</think>\\n\\nHi Mayur! 😄 Looks like you’re sticking to your intro—no problem! Let’s try a different angle:  \\n\\n- **What’s your go-to format?** Test cricket’s drama, the thrill of T20s, or one-day madness?  \\n- **Dream team?** Any legendary players (like Sachin, Lara, or Kohli) or newer stars you’d pick?  \\n- **Fun fact:** Did you know the fastest century in ODIs was scored by AB de Villiers in just 36 balls? Wild, right?  \\n\\nLet me know what excites you most about cricket—I’m all ears! ⚾', additional_kwargs={}, response_metadata={'token_usage': {'completion_tokens': 367, 'prompt_tokens': 188, 'total_tokens': 555, 'completion_time': 0.914345763, 'prompt_time': 0.032945185, 'queue_time': 4.909531421, 'total_time': 0.947290948}, 'model_name': 'qwen-qwq-32b', 'system_fingerprint': 'fp_98b01f25b2', 'finish_reason': 'stop', 'logprobs': None}, id='run--06d4f4bc-4ae3-49ee-9097-b90bbeba2d34-0', usage_metadata={'input_tokens': 188, 'output_tokens': 367, 'total_tokens': 555})]}\n"
     ]
    }
   ],
   "source": [
    "#mode=values\n",
    "for chunk in graph_builder.stream({'messages':\"Hi,My name is Mayur And I like cricket\"},config,stream_mode=\"values\"):\n",
    "    print(chunk)"
   ]
  },
  {
   "cell_type": "markdown",
   "id": "079d839a",
   "metadata": {},
   "source": []
  }
 ],
 "metadata": {
  "kernelspec": {
   "display_name": "myenv",
   "language": "python",
   "name": "python3"
  },
  "language_info": {
   "codemirror_mode": {
    "name": "ipython",
    "version": 3
   },
   "file_extension": ".py",
   "mimetype": "text/x-python",
   "name": "python",
   "nbconvert_exporter": "python",
   "pygments_lexer": "ipython3",
   "version": "3.11.1"
  }
 },
 "nbformat": 4,
 "nbformat_minor": 5
}
